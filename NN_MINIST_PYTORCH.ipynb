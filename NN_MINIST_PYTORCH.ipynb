{
 "cells": [
  {
   "cell_type": "markdown",
   "id": "28579fa6",
   "metadata": {},
   "source": [
    "# Ejemplo de Clasificación de Imágenes MNIST con PyTorch"
   ]
  },
  {
   "cell_type": "markdown",
   "id": "908b213d",
   "metadata": {},
   "source": [
    "# Configuración de Bibliotecas\n",
    "\n",
    "En esta sección, importamos las bibliotecas necesarias para nuestro proyecto. Aquí hay una breve descripción de cada biblioteca:\n",
    "\n",
    "- `torch`: Importamos PyTorch, que se utilizará para trabajar con redes neuronales.\n",
    "- `torchvision`: Usamos torchvision para cargar conjuntos de datos y aplicar transformaciones a las imágenes.\n",
    "- `numpy`: Importamos NumPy para realizar operaciones numéricas.\n",
    "- `tqdm`: Utilizamos tqdm para mostrar barras de progreso durante la ejecución del código.\n",
    "- `torch.nn`: Importamos torch.nn para definir arquitecturas de redes neuronales."
   ]
  },
  {
   "cell_type": "code",
   "execution_count": 1,
   "id": "741e7243",
   "metadata": {},
   "outputs": [],
   "source": [
    "import torch\n",
    "from torchvision import datasets, transforms\n",
    "import numpy as np\n",
    "from tqdm import tqdm\n",
    "import torch.nn as nn"
   ]
  },
  {
   "cell_type": "markdown",
   "id": "14b4e55a",
   "metadata": {},
   "source": [
    "# Carga de Datos\n",
    "\n",
    "En esta sección, estamos cargando los datos del conjunto de datos MNIST, que se utilizarán para entrenar y evaluar nuestro modelo de aprendizaje automático. Hacemos lo siguiente:"
   ]
  },
  {
   "cell_type": "markdown",
   "id": "41d9a021",
   "metadata": {},
   "source": [
    "### Conjunto de Entrenamiento\n",
    "\n",
    "\n",
    "- `train_loader`: Creamos un DataLoader para el conjunto de entrenamiento de MNIST.\n",
    "- `datasets.MNIST`: Cargamos el conjunto de datos MNIST desde la ubicación '../mnist'.\n",
    "- `transform=transforms.Compose(...)`: Aplicamos transformaciones a las imágenes, incluyendo la conversión a tensores y normalización.\n",
    "- `batch_size=64`: Establecemos el tamaño del lote en 64.\n",
    "- `shuffle=True`: Barajamos los datos para el entrenamiento.\n",
    "- `num_workers=1`: Especificamos el número de trabajadores para cargar los datos.\n",
    "- `pin_memory=True`: Usamos \"pin_memory\" para mejorar la transferencia de datos a la GPU si está disponible."
   ]
  },
  {
   "cell_type": "markdown",
   "id": "be49410e",
   "metadata": {},
   "source": [
    "### Conjunto de Prueba\n",
    "\n",
    "\n",
    "- `test_loader`: Creamos un DataLoader para el conjunto de prueba de MNIST.\n",
    "- `datasets.MNIST`: Cargamos el conjunto de datos MNIST para pruebas desde la misma ubicación.\n",
    "- `transform=transforms.Compose(...)`: Aplicamos las mismas transformaciones que en el conjunto de entrenamiento.\n",
    "- `batch_size=1024`: Establecemos el tamaño del lote en 1024 para las pruebas.\n",
    "- `shuffle=True`: Barajamos los datos para las pruebas.\n",
    "- `num_workers=1`: Especificamos el número de trabajadores para cargar los datos.\n",
    "- `pin_memory=True`: Usamos \"pin_memory\" para mejorar la transferencia de datos a la GPU si está disponible."
   ]
  },
  {
   "cell_type": "code",
   "execution_count": 2,
   "id": "0d637a61",
   "metadata": {},
   "outputs": [],
   "source": [
    "train_loader = torch.utils.data.DataLoader(datasets.MNIST('../mnist',train=True, download=True,\n",
    "               transform=transforms.Compose([transforms.ToTensor(),\n",
    "               transforms.Normalize((0.1307,), (0.3081,)),]),),\n",
    "               batch_size=64, shuffle=True, num_workers=1,\n",
    "               pin_memory=True)\n",
    "\n",
    "test_loader = torch.utils.data.DataLoader(datasets.MNIST('../mnist',train=False,\n",
    "              transform=transforms.Compose([transforms.ToTensor(),\n",
    "              transforms.Normalize((0.1307,), (0.3081,)),]),),\n",
    "              batch_size=1024, shuffle=True, num_workers=1,\n",
    "              pin_memory=True)"
   ]
  },
  {
   "cell_type": "markdown",
   "id": "9e607c8f",
   "metadata": {},
   "source": [
    "# Definición de la Arquitectura del Modelo\n",
    "\n",
    "En esta sección, definimos la arquitectura de nuestro modelo de aprendizaje automático. Utilizamos un modelo de tipo secuencial (`Sequential`) que consta de varias capas:\n",
    "\n",
    "- `torch.nn.Conv2d(1, 16, 8, 2, padding=3)`: Primera capa convolucional. \n",
    "    - Entrada: 1 canal (escala de grises), 16 filtros, tamaño del kernel 8x8, paso 2, relleno de 3 píxeles.\n",
    "    - Función de activación: ReLU.\n",
    "\n",
    "- `torch.nn.MaxPool2d(2, 1)`: Capa de Max Pooling.\n",
    "    - Tamaño del kernel: 2x2, paso 1.\n",
    "\n",
    "- `torch.nn.Conv2d(16, 32, 4, 2)`: Segunda capa convolucional.\n",
    "    - Entrada: 16 canales (de la capa anterior), 32 filtros, tamaño del kernel 4x4, paso 2.\n",
    "    - Función de activación: ReLU.\n",
    "\n",
    "- `torch.nn.MaxPool2d(2, 1)`: Capa de Max Pooling.\n",
    "    - Tamaño del kernel: 2x2, paso 1.\n",
    "\n",
    "- `torch.nn.Flatten()`: Capa de aplanado que convierte la salida anterior en un vector.\n",
    "\n",
    "- `torch.nn.Linear(32 * 4 * 4, 32)`: Capa completamente conectada.\n",
    "    - Entrada: 32*4*4 (resultado del aplanado), salida: 32.\n",
    "    - Función de activación: ReLU.\n",
    "\n",
    "- `torch.nn.Linear(32, 10)`: Capa completamente conectada de salida.\n",
    "    - Entrada: 32, salida: 10 (número de clases en tu problema).\n",
    "\n",
    "Este modelo define una arquitectura de red neuronal convolucional (CNN) típica para problemas de clasificación. La información de entrada pasa a través de capas convolucionales, capas de agrupación (pooling), capas de aplanado y capas completamente conectadas para realizar la clasificación final en 10 clases. La función de activación ReLU se utiliza después de las capas convolucionales y completamente conectadas para introducir no linealidad en la red.\n"
   ]
  },
  {
   "cell_type": "code",
   "execution_count": 3,
   "id": "574dd9f3",
   "metadata": {},
   "outputs": [],
   "source": [
    "model = torch.nn.Sequential(torch.nn.Conv2d(1, 16, 8, 2, padding=3),\n",
    "                            torch.nn.ReLU(),\n",
    "                            torch.nn.MaxPool2d(2, 1), \n",
    "                            torch.nn.Conv2d(16, 32, 4, 2), \n",
    "                            torch.nn.ReLU(), \n",
    "                            torch.nn.MaxPool2d(2, 1), \n",
    "                            torch.nn.Flatten(), \n",
    "                            torch.nn.Linear(32 * 4 * 4, 32), \n",
    "                            torch.nn.ReLU(), \n",
    "                            torch.nn.Linear(32, 10))"
   ]
  },
  {
   "cell_type": "markdown",
   "id": "6157ab3f",
   "metadata": {},
   "source": [
    "# Definición del Optimizador\n",
    "\n",
    "En esta sección, configuramos el optimizador que se utilizará para entrenar nuestro modelo. Utilizamos el optimizador SGD (Gradiente Descendente Estocástico) con los siguientes parámetros:\n",
    "\n",
    "- `model.parameters()`: Pasamos los parámetros del modelo que deben ser optimizados por el SGD. Esto incluye los pesos y sesgos de todas las capas definidas anteriormente.\n",
    "- `lr=0.05`: Establecemos la tasa de aprendizaje (learning rate) en 0.05. La tasa de aprendizaje controla la magnitud de los ajustes realizados en los parámetros durante el entrenamiento. Un valor más alto acelera el aprendizaje, pero puede hacer que el entrenamiento sea inestable, mientras que un valor más bajo puede hacer que el entrenamiento sea más preciso pero lento.\n",
    "\n",
    "El optimizador SGD es uno de los algoritmos de optimización más comunes utilizados para ajustar los parámetros de una red neuronal durante el entrenamiento. Controla cómo se actualizan los pesos de la red en función de la información de retroalimentación (gradientes) proporcionada por la función de pérdida.\n"
   ]
  },
  {
   "cell_type": "code",
   "execution_count": 4,
   "id": "ce982b3e",
   "metadata": {},
   "outputs": [],
   "source": [
    "optimizer = torch.optim.SGD(model.parameters(), lr=0.05)"
   ]
  },
  {
   "cell_type": "markdown",
   "id": "7a2a8af3",
   "metadata": {},
   "source": [
    "# Función de Entrenamiento y Bucle de Entrenamiento\n",
    "\n",
    "En esta sección, definimos una función de entrenamiento y luego ejecutamos un bucle de entrenamiento para entrenar nuestro modelo.\n",
    "\n",
    "### Función de Entrenamiento\n",
    "\n",
    "```python\n",
    "def train(model, train_loader, optimizer, epoch, device):\n",
    "    # Establecemos el modelo en modo de entrenamiento\n",
    "    model.train()\n",
    "    \n",
    "    # Definimos la función de pérdida (criterion)\n",
    "    criterion = torch.nn.CrossEntropyLoss()\n",
    "    \n",
    "    # Inicializamos listas para el seguimiento de pérdidas\n",
    "    losses = []\n",
    "    \n",
    "    # Inicializamos contadores para la precisión\n",
    "    correct = 0  # Contador de predicciones correctas\n",
    "    total = 0    # Contador de ejemplos totales\n",
    "    \n",
    "    # Bucle de entrenamiento a través del conjunto de datos\n",
    "    for _batch_idx, (data, target) in enumerate(tqdm(train_loader)):\n",
    "        data, target = data.to(device), target.to(device)\n",
    "        \n",
    "        # Inicializamos los gradientes en cero\n",
    "        optimizer.zero_grad()\n",
    "        \n",
    "        # Pasamos los datos a través del modelo\n",
    "        output = model(data)\n",
    "        \n",
    "        # Calculamos la pérdida\n",
    "        loss = criterion(output, target)\n",
    "        \n",
    "        # Realizamos la retropropagación (backpropagation) para calcular gradientes\n",
    "        loss.backward()\n",
    "        \n",
    "        # Actualizamos los parámetros del modelo utilizando el optimizador\n",
    "        optimizer.step()\n",
    "        \n",
    "        # Almacenamos la pérdida actual\n",
    "        losses.append(loss.item())     \n",
    "                \n",
    "        # Calculamos la precisión\n",
    "        _, predicted = torch.max(output.data, 1)\n",
    "        total += target.size(0)\n",
    "        correct += (predicted == target).sum().item()\n",
    "        \n",
    "    # Calculamos la precisión en porcentaje\n",
    "    accuracy = 100 * correct / total\n",
    "        \n",
    "    # Imprimimos estadísticas del entrenamiento\n",
    "    print(\n",
    "        f\"Train Epoch: {epoch} \\t\"\n",
    "        f\"Loss: {np.mean(losses):.6f} \"\n",
    "        f\"Accuracy: {accuracy:.2f}% \"  # Mostramos la precisión\n",
    "       )\n"
   ]
  },
  {
   "cell_type": "markdown",
   "id": "e4fa6c0f",
   "metadata": {},
   "source": [
    "# Bucle de entrenamiento: entrenamos el modelo durante n épocas\n",
    "\n",
    "- En el bucle de entrenamiento, llamamos a la función train en cada época para entrenar el modelo.   \n",
    "- La función train realiza el proceso de entrenamiento, calcula la pérdida, la precisión y actualiza los parámetros del modelo utilizando el optimizador.  \n",
    "- Al final de cada época, se imprimen estadísticas que incluyen la pérdida y la precisión. Este bucle se ejecuta durante 10 épocas para entrenar el modelo."
   ]
  },
  {
   "cell_type": "code",
   "execution_count": null,
   "id": "eea17c49",
   "metadata": {},
   "outputs": [],
   "source": [
    "def train(model, train_loader, optimizer, epoch, device):\n",
    "    \n",
    "    model.train()\n",
    "    criterion = torch.nn.CrossEntropyLoss()\n",
    "    losses = []\n",
    "    correct = 0  # Inicializar el contador de predicciones correctas\n",
    "    total = 0    # Inicializar el contador de ejemplos totales\n",
    "    \n",
    "    for _batch_idx, (data, target) in enumerate(tqdm(train_loader)):\n",
    "        data, target = data.to(device), target.to(device)\n",
    "        optimizer.zero_grad()\n",
    "        output = model(data)\n",
    "        loss = criterion(output, target)\n",
    "        loss.backward()\n",
    "        optimizer.step()\n",
    "        losses.append(loss.item())     \n",
    "                \n",
    "        # Calcular la precisión\n",
    "        _, predicted = torch.max(output.data, 1)\n",
    "        total += target.size(0)\n",
    "        correct += (predicted == target).sum().item()\n",
    "        \n",
    "    accuracy = 100 * correct / total  # Calcular la precisión en porcentaje\n",
    "        \n",
    "    print(\n",
    "        f\"Train Epoch: {epoch} \\t\"\n",
    "        f\"Loss: {np.mean(losses):.6f} \"\n",
    "        f\"Accuracy: {accuracy:.2f}% \"  # Mostrar la precisión\n",
    "       )\n",
    "    \n",
    "for epoch in range(1, 11):\n",
    "    train(model, train_loader, optimizer, epoch, device=\"cpu\")"
   ]
  },
  {
   "cell_type": "markdown",
   "id": "47984df5",
   "metadata": {},
   "source": [
    "# Adáptar una gráfica: podemos generar una gráfica\n",
    "\n",
    "- En caso de mostrar la evolución de la función de pérdida o el ACC a traves de las épocas, podrías adaptar una gráfica de la siguiente manera: \n"
   ]
  },
  {
   "cell_type": "code",
   "execution_count": 6,
   "id": "381474f8",
   "metadata": {},
   "outputs": [
    {
     "name": "stderr",
     "output_type": "stream",
     "text": [
      "100%|██████████| 938/938 [00:18<00:00, 50.06it/s]\n"
     ]
    },
    {
     "name": "stdout",
     "output_type": "stream",
     "text": [
      "Train Epoch: 1 \tLoss: 4.173314 Accuracy: 98.70% \n"
     ]
    },
    {
     "name": "stderr",
     "output_type": "stream",
     "text": [
      "100%|██████████| 938/938 [00:18<00:00, 49.65it/s]\n"
     ]
    },
    {
     "name": "stdout",
     "output_type": "stream",
     "text": [
      "Train Epoch: 2 \tLoss: 3.551540 Accuracy: 98.86% \n"
     ]
    },
    {
     "name": "stderr",
     "output_type": "stream",
     "text": [
      "100%|██████████| 938/938 [00:18<00:00, 50.94it/s]\n"
     ]
    },
    {
     "name": "stdout",
     "output_type": "stream",
     "text": [
      "Train Epoch: 3 \tLoss: 2.926086 Accuracy: 99.08% \n"
     ]
    },
    {
     "name": "stderr",
     "output_type": "stream",
     "text": [
      "100%|██████████| 938/938 [00:19<00:00, 49.30it/s]\n"
     ]
    },
    {
     "name": "stdout",
     "output_type": "stream",
     "text": [
      "Train Epoch: 4 \tLoss: 2.549555 Accuracy: 99.19% \n"
     ]
    },
    {
     "name": "stderr",
     "output_type": "stream",
     "text": [
      "100%|██████████| 938/938 [00:20<00:00, 45.13it/s]\n"
     ]
    },
    {
     "name": "stdout",
     "output_type": "stream",
     "text": [
      "Train Epoch: 5 \tLoss: 2.309746 Accuracy: 99.26% \n"
     ]
    },
    {
     "name": "stderr",
     "output_type": "stream",
     "text": [
      "100%|██████████| 938/938 [00:20<00:00, 44.93it/s]\n"
     ]
    },
    {
     "name": "stdout",
     "output_type": "stream",
     "text": [
      "Train Epoch: 6 \tLoss: 1.904847 Accuracy: 99.39% \n"
     ]
    },
    {
     "name": "stderr",
     "output_type": "stream",
     "text": [
      "100%|██████████| 938/938 [00:20<00:00, 45.99it/s]\n"
     ]
    },
    {
     "name": "stdout",
     "output_type": "stream",
     "text": [
      "Train Epoch: 7 \tLoss: 1.765618 Accuracy: 99.42% \n"
     ]
    },
    {
     "name": "stderr",
     "output_type": "stream",
     "text": [
      "100%|██████████| 938/938 [00:20<00:00, 46.23it/s]\n"
     ]
    },
    {
     "name": "stdout",
     "output_type": "stream",
     "text": [
      "Train Epoch: 8 \tLoss: 1.550183 Accuracy: 99.50% \n"
     ]
    },
    {
     "name": "stderr",
     "output_type": "stream",
     "text": [
      "100%|██████████| 938/938 [00:21<00:00, 43.35it/s]\n"
     ]
    },
    {
     "name": "stdout",
     "output_type": "stream",
     "text": [
      "Train Epoch: 9 \tLoss: 1.465900 Accuracy: 99.51% \n"
     ]
    },
    {
     "name": "stderr",
     "output_type": "stream",
     "text": [
      "100%|██████████| 938/938 [00:21<00:00, 44.17it/s]"
     ]
    },
    {
     "name": "stdout",
     "output_type": "stream",
     "text": [
      "Train Epoch: 10 \tLoss: 1.215434 Accuracy: 99.60% \n"
     ]
    },
    {
     "name": "stderr",
     "output_type": "stream",
     "text": [
      "\n"
     ]
    }
   ],
   "source": [
    "MLossXepoc = []\n",
    "ACCxEpoc = []\n",
    "epochX = []\n",
    "\n",
    "def train(model, train_loader, optimizer, epoch, device):\n",
    "    \n",
    "    model.train()\n",
    "    criterion = torch.nn.CrossEntropyLoss()\n",
    "    losses = []\n",
    "    correct = 0  # Inicializar el contador de predicciones correctas\n",
    "    total = 0    # Inicializar el contador de ejemplos totales\n",
    "    \n",
    "\n",
    "    \n",
    "    for _batch_idx, (data, target) in enumerate(tqdm(train_loader)):\n",
    "        data, target = data.to(device), target.to(device)\n",
    "        optimizer.zero_grad()\n",
    "        output = model(data)\n",
    "        loss = criterion(output, target)\n",
    "        loss.backward()\n",
    "        optimizer.step()\n",
    "        losses.append(loss.item())     \n",
    "                \n",
    "        # Calcular la precisión\n",
    "        _, predicted = torch.max(output.data, 1)\n",
    "        total += target.size(0)\n",
    "        correct += (predicted == target).sum().item()\n",
    "        \n",
    "    accuracy = 100 * correct / total  # Calcular la precisión en porcentaje\n",
    "    mean_loss = np.mean(losses)*100\n",
    "    \n",
    "    MLossXepoc.append(mean_loss)\n",
    "    ACCxEpoc.append(accuracy)\n",
    "    epochX.append(epoch)\n",
    "    \n",
    "          \n",
    "    print(\n",
    "        f\"Train Epoch: {epoch} \\t\"\n",
    "        f\"Loss: {mean_loss:.6f}%\"\n",
    "        f\"Accuracy: {accuracy:.2f}% \"  # Mostrar la precisión\n",
    "       )\n",
    "\n",
    "    \n",
    "for epoch in range(1, 11):\n",
    "    train(model, train_loader, optimizer, epoch, device=\"cpu\")"
   ]
  },
  {
   "cell_type": "code",
   "execution_count": 11,
   "id": "3459989d",
   "metadata": {},
   "outputs": [
    {
     "data": {
      "image/png": "[encoded data removed]",
      "text/plain": [
       "<Figure size 1000x600 with 1 Axes>"
      ]
     },
     "metadata": {},
     "output_type": "display_data"
    }
   ],
   "source": [
    "import matplotlib.pyplot as plt\n",
    "import numpy as np\n",
    "\n",
    "# Crear el gráfico\n",
    "plt.figure(figsize=(10, 6))  # Tamaño del gráfico\n",
    "plt.plot(epochX, MLossXepoc, marker='o', linestyle='--', color='b', label='Loss', linewidth=2)\n",
    "plt.plot(epochX, ACCxEpoc, marker='o', linestyle='--', color='g', label='ACC', linewidth=2)\n",
    "plt.xlabel('Época', fontsize=14)  # Etiqueta del eje x\n",
    "plt.ylabel('Valor', fontsize=14)  # Etiqueta del eje y\n",
    "plt.title('Loss vs ACC por Época', fontsize=16)  # Título del gráfico\n",
    "plt.legend(fontsize=12)  # Leyenda\n",
    "plt.grid(True, linestyle='--', alpha=0.7)  # Cuadrícula con estilo\n",
    "plt.xticks(epochX)  # Valores del eje x\n",
    "plt.yticks(np.arange(0, 100, 10))  # Valores del eje y (ajusta el rango según tus datos)\n",
    "plt.tight_layout()  # Ajuste de diseño\n",
    "plt.savefig('loss_vs_acc.png')  # Guardar el gráfico como imagen\n",
    "plt.show()"
   ]
  },
  {
   "cell_type": "markdown",
   "id": "fa13a36c",
   "metadata": {},
   "source": [
    "## Resultados del Entrenamiento de la Red Neuronal en MNIST\n",
    "\n",
    "Los datos proporcionados representan el rendimiento de una red neuronal entrenada en el conjunto de datos MNIST durante 10 épocas. A continuación se presentan algunas conclusiones y observaciones que se pueden hacer a partir de estos datos:\n",
    "\n",
    "### Precisión (Accuracy)\n",
    "\n",
    "- La precisión de la red neuronal aumenta consistentemente a medida que avanzan las épocas.\n",
    "- Comienza alrededor del 98.7% en la primera época y alcanza alrededor del 99.6% en la décima época.\n",
    "- Este aumento constante en la precisión sugiere que el modelo está aprendiendo y mejorando su capacidad para clasificar las imágenes correctamente.\n",
    "\n",
    "### Pérdida (Loss)\n",
    "\n",
    "- La pérdida de la red neuronal disminuye a lo largo de las épocas.\n",
    "- Comienza con un valor de alrededor de 4.17 en la primera época y disminuye a alrededor de 1.22 en la décima época.\n",
    "- La disminución de la pérdida es una señal positiva de que el modelo está mejorando su capacidad para hacer predicciones precisas. Una pérdida más baja indica que las predicciones del modelo son más cercanas a los valores reales.\n",
    "\n",
    "### Estabilidad\n",
    "\n",
    "- La estabilidad y la mejora gradual en la precisión y la pérdida a lo largo de las épocas sugieren que el modelo no está sufriendo de sobreajuste (overfitting) en los datos de entrenamiento, al menos hasta la décima época.\n",
    "- Esto es positivo, ya que indica que el modelo está generalizando bien a nuevos datos y no está memorizando los ejemplos de entrenamiento.\n",
    "\n",
    "### Optimización\n",
    "\n",
    "- El proceso de entrenamiento parece estar convergiendo hacia una solución óptima, ya que tanto la precisión como la pérdida están mejorando de manera consistente.\n",
    "- Sin embargo, es importante seguir monitorizando el rendimiento en conjuntos de datos de prueba para evaluar la capacidad de generalización.\n",
    "\n",
    "\n"
   ]
  },
  {
   "cell_type": "markdown",
   "id": "a2e5f843",
   "metadata": {},
   "source": [
    "## Fuentes de Referencia\n",
    "\n",
    "Aquí se enumeran las fuentes y recursos que se utilizaron en este proyecto.\n",
    "\n",
    "- **Entrenamiento del modelo clasificador de imágenes con PyTorch (Microsoft Learn)**\n",
    "    - Autor: Quinn Radich, Roudabeh1348, v-alje\n",
    "    - Fecha de publicación: 11/07/2023\n",
    "    - Fuente: [Microsoft Learn](https://learn.microsoft.com/es-es/windows/ai/windows-ml/tutorials/pytorch-train-model)\n",
    "\n",
    "- **DIFFERENTIALLY PRIVATE DEEP LEARNING IN 20 LINES OF CODE: HOW TO USE THE PYTORCH OPACUS LIBRARY (OpenMined Blog)**\n",
    "    - Autor: Desconocido\n",
    "    - Fecha de publicación: August 31st, 2020\n",
    "    - Fuente: [OpenMined Blog](https://blog.openmined.org/differentially-private-deep-learning-using-opacus-in-20-lines-of-code/)\n"
   ]
  }
 ],
 "metadata": {
  "kernelspec": {
   "display_name": "Python 3 (ipykernel)",
   "language": "python",
   "name": "python3"
  },
  "language_info": {
   "codemirror_mode": {
    "name": "ipython",
    "version": 3
   },
   "file_extension": ".py",
   "mimetype": "text/x-python",
   "name": "python",
   "nbconvert_exporter": "python",
   "pygments_lexer": "ipython3",
   "version": "3.10.9"
  }
 },
 "nbformat": 4,
 "nbformat_minor": 5
}
